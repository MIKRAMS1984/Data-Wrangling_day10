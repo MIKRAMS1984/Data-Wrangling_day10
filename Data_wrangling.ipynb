{
 "cells": [
  {
   "cell_type": "markdown",
   "metadata": {},
   "source": [
    "**While Loop**"
   ]
  },
  {
   "cell_type": "code",
   "execution_count": 1,
   "metadata": {},
   "outputs": [
    {
     "name": "stdout",
     "output_type": "stream",
     "text": [
      "0 Muhammad\n",
      "1 Muhammad\n",
      "2 Muhammad\n",
      "3 Muhammad\n",
      "4 Muhammad\n",
      "5 Muhammad\n",
      "6 Muhammad\n",
      "7 Muhammad\n",
      "8 Muhammad\n",
      "9 Muhammad\n"
     ]
    }
   ],
   "source": [
    "kount = 0\n",
    "while kount < 10:\n",
    "    print(kount, 'Muhammad')\n",
    "    kount +=1"
   ]
  },
  {
   "cell_type": "markdown",
   "metadata": {},
   "source": [
    "**For Loop**"
   ]
  },
  {
   "cell_type": "code",
   "execution_count": 4,
   "metadata": {},
   "outputs": [
    {
     "name": "stdout",
     "output_type": "stream",
     "text": [
      "0 Muhammad\n",
      "1 Muhammad\n",
      "2 Muhammad\n",
      "3 Muhammad\n",
      "4 Muhammad\n",
      "5 Muhammad\n",
      "6 Muhammad\n",
      "7 Muhammad\n",
      "8 Muhammad\n",
      "9 Muhammad\n"
     ]
    }
   ],
   "source": [
    "for i in range(0, 10):\n",
    "    print(i, 'Muhammad')"
   ]
  },
  {
   "cell_type": "code",
   "execution_count": 6,
   "metadata": {},
   "outputs": [
    {
     "name": "stdout",
     "output_type": "stream",
     "text": [
      "i\n",
      "k\n",
      "r\n",
      "a\n",
      "m\n"
     ]
    }
   ],
   "source": [
    "a = 'ikram'\n",
    "for x in a:\n",
    "    print(x)"
   ]
  },
  {
   "cell_type": "code",
   "execution_count": 7,
   "metadata": {},
   "outputs": [
    {
     "name": "stdout",
     "output_type": "stream",
     "text": [
      "i\n",
      "k\n",
      "r\n",
      "a\n",
      "m\n"
     ]
    }
   ],
   "source": [
    "import time\n",
    "a = 'ikram'\n",
    "for x in a:\n",
    "    time.sleep(1)\n",
    "    print(x)"
   ]
  },
  {
   "cell_type": "code",
   "execution_count": 8,
   "metadata": {},
   "outputs": [
    {
     "name": "stdout",
     "output_type": "stream",
     "text": [
      "i\n",
      "k\n",
      "r\n",
      "a\n",
      "m\n",
      " \n",
      "i\n",
      "s\n",
      " \n",
      "a\n",
      " \n",
      "g\n",
      "o\n",
      "o\n",
      "d\n",
      " \n",
      "b\n",
      "o\n",
      "y\n",
      ".\n"
     ]
    }
   ],
   "source": [
    "a = 'ikram is a good boy.'\n",
    "for x in a:\n",
    "    print(x)"
   ]
  },
  {
   "cell_type": "markdown",
   "metadata": {},
   "source": [
    "**LIst**"
   ]
  },
  {
   "cell_type": "code",
   "execution_count": 11,
   "metadata": {},
   "outputs": [
    {
     "name": "stdout",
     "output_type": "stream",
     "text": [
      "1\n",
      "2\n",
      "3\n",
      "ikram\n",
      "4.5\n"
     ]
    }
   ],
   "source": [
    "x = [1, 2, 3, 'ikram', 4.5]\n",
    "for var in x:\n",
    "    print(var)"
   ]
  },
  {
   "cell_type": "markdown",
   "metadata": {},
   "source": [
    "**Tuple**"
   ]
  },
  {
   "cell_type": "code",
   "execution_count": 12,
   "metadata": {},
   "outputs": [
    {
     "name": "stdout",
     "output_type": "stream",
     "text": [
      "1\n",
      "2\n",
      "3\n",
      "ikram\n",
      "4.5\n"
     ]
    }
   ],
   "source": [
    "tup = (1, 2, 3, 'ikram', 4.5)\n",
    "for var in tup:\n",
    "    print(var)"
   ]
  },
  {
   "cell_type": "code",
   "execution_count": 13,
   "metadata": {},
   "outputs": [
    {
     "name": "stdout",
     "output_type": "stream",
     "text": [
      "range(0, 10)\n"
     ]
    }
   ],
   "source": [
    "x = range(10)\n",
    "print(x)"
   ]
  },
  {
   "cell_type": "code",
   "execution_count": 15,
   "metadata": {},
   "outputs": [
    {
     "name": "stdout",
     "output_type": "stream",
     "text": [
      "[0, 1, 2, 3, 4, 5, 6, 7, 8, 9]\n"
     ]
    }
   ],
   "source": [
    "x = list(range(10))\n",
    "print(x)"
   ]
  },
  {
   "cell_type": "code",
   "execution_count": 16,
   "metadata": {},
   "outputs": [
    {
     "name": "stdout",
     "output_type": "stream",
     "text": [
      "0\n",
      "1\n",
      "2\n",
      "3\n",
      "4\n",
      "5\n",
      "6\n",
      "7\n",
      "8\n",
      "9\n"
     ]
    }
   ],
   "source": [
    "for x in range(0, 10):\n",
    "    print(x)"
   ]
  },
  {
   "cell_type": "code",
   "execution_count": 18,
   "metadata": {},
   "outputs": [
    {
     "name": "stdout",
     "output_type": "stream",
     "text": [
      "ikram\n"
     ]
    }
   ],
   "source": [
    "# kreate a diktionary\n",
    "d = {'a': 1, 'b': 2, 'c': 3, 'd':'ikram'}\n",
    "print(d['d'])"
   ]
  },
  {
   "cell_type": "code",
   "execution_count": 24,
   "metadata": {},
   "outputs": [
    {
     "name": "stdout",
     "output_type": "stream",
     "text": [
      "a 1\n",
      "b 2\n",
      "c 3\n",
      "d ikram\n"
     ]
    }
   ],
   "source": [
    "# kreate a diktionary\n",
    "d = {'a': 1, 'b': 2, 'c': 3, 'd':'ikram'}\n",
    "# print(d['d'])\n",
    "for x in d:\n",
    "    print(x, d[x])"
   ]
  },
  {
   "cell_type": "code",
   "execution_count": 25,
   "metadata": {},
   "outputs": [
    {
     "name": "stdout",
     "output_type": "stream",
     "text": [
      "a\n",
      "b\n",
      "c\n",
      "d\n"
     ]
    }
   ],
   "source": [
    "# kreate a diktionary\n",
    "d = {'a': 1, 'b': 2, 'c': 3, 'd':'ikram'}\n",
    "# print(d['d'])\n",
    "for x in d.keys():\n",
    "    print(x)"
   ]
  },
  {
   "cell_type": "code",
   "execution_count": 26,
   "metadata": {},
   "outputs": [
    {
     "name": "stdout",
     "output_type": "stream",
     "text": [
      "1\n",
      "2\n",
      "3\n",
      "ikram\n"
     ]
    }
   ],
   "source": [
    "# kreate a diktionary\n",
    "d = {'a': 1, 'b': 2, 'c': 3, 'd':'ikram'}\n",
    "# print(d['d'])\n",
    "for x in d.values():\n",
    "    print(x)"
   ]
  },
  {
   "cell_type": "code",
   "execution_count": 27,
   "metadata": {},
   "outputs": [
    {
     "name": "stdout",
     "output_type": "stream",
     "text": [
      "a 1\n",
      "b 2\n",
      "c 3\n",
      "d ikram\n"
     ]
    }
   ],
   "source": [
    "# kreate a diktionary\n",
    "d = {'a': 1, 'b': 2, 'c': 3, 'd':'ikram'}\n",
    "# print(d['d'])\n",
    "for x,y in d.items():\n",
    "    print(x,y)"
   ]
  },
  {
   "cell_type": "code",
   "execution_count": 30,
   "metadata": {},
   "outputs": [
    {
     "name": "stdout",
     "output_type": "stream",
     "text": [
      "30\n",
      "S\n"
     ]
    }
   ],
   "source": [
    "a = 'Muhammad Ikram Shahzad as a DS'\n",
    "print(len(a))\n",
    "print(a[-1])"
   ]
  },
  {
   "cell_type": "code",
   "execution_count": 32,
   "metadata": {},
   "outputs": [
    {
     "name": "stdout",
     "output_type": "stream",
     "text": [
      "ikram ikram ikram \n"
     ]
    }
   ],
   "source": [
    "x = 'ikram '\n",
    "print(x * 3)"
   ]
  },
  {
   "cell_type": "code",
   "execution_count": 35,
   "metadata": {},
   "outputs": [
    {
     "name": "stdout",
     "output_type": "stream",
     "text": [
      "Aman\n",
      "very\n"
     ]
    }
   ],
   "source": [
    "a = 'Aman is a very good boy'\n",
    "print(a[0:4])\n",
    "print(a[10:14])\n",
    "print(a[0:4])"
   ]
  },
  {
   "cell_type": "markdown",
   "metadata": {},
   "source": [
    "**Printing a string in reverse order.**"
   ]
  },
  {
   "cell_type": "code",
   "execution_count": 45,
   "metadata": {},
   "outputs": [
    {
     "name": "stdout",
     "output_type": "stream",
     "text": [
      "p\n",
      "py\n",
      "n\n",
      "pto\n",
      "python\n",
      "pytho\n",
      "thon\n",
      "py\n",
      "nohtyp\n"
     ]
    }
   ],
   "source": [
    "w = 'python'\n",
    "print(w[0])\n",
    "print(w[0:2])\n",
    "print(w[-1])\n",
    "print(w[0:-1:2])\n",
    "print(w[0:])\n",
    "print(w[0:5])\n",
    "print(w[2:])\n",
    "print(w[:2])\n",
    "print(w[::-1]) # to pring a string in reverse order.\n"
   ]
  },
  {
   "cell_type": "code",
   "execution_count": null,
   "metadata": {},
   "outputs": [],
   "source": []
  }
 ],
 "metadata": {
  "kernelspec": {
   "display_name": "Python 3",
   "language": "python",
   "name": "python3"
  },
  "language_info": {
   "codemirror_mode": {
    "name": "ipython",
    "version": 3
   },
   "file_extension": ".py",
   "mimetype": "text/x-python",
   "name": "python",
   "nbconvert_exporter": "python",
   "pygments_lexer": "ipython3",
   "version": "3.11.4"
  }
 },
 "nbformat": 4,
 "nbformat_minor": 2
}
